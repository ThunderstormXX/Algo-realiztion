{
 "cells": [
  {
   "cell_type": "code",
   "execution_count": 1,
   "metadata": {},
   "outputs": [],
   "source": [
    "import cv2 as cv\n",
    "import numpy as np\n",
    "from matplotlib import pylab as plt"
   ]
  },
  {
   "cell_type": "code",
   "execution_count": 106,
   "metadata": {},
   "outputs": [],
   "source": [
    "def itermap(func, dim , n_iter):\n",
    "    image = np.empty([dim,dim, 3], dtype=np.uint8) \n",
    "    image.fill(255)\n",
    "    for x in range(dim):\n",
    "        for y in range(dim):\n",
    "            point = (x + y*1j)/dim\n",
    "            for i in range(n_iter):\n",
    "                point = func(point)\n",
    "            if np.abs(point) > 2:\n",
    "                break\n",
    "            else:\n",
    "                image[x][y] = (0,0,0)\n",
    "            \n",
    "    plt.imshow(image)\n",
    "    return image"
   ]
  },
  {
   "cell_type": "code",
   "execution_count": 112,
   "metadata": {},
   "outputs": [],
   "source": [
    "def Julia(point):\n",
    "    return point*point - 0.2+0.75*1j\n"
   ]
  },
  {
   "cell_type": "code",
   "execution_count": 113,
   "metadata": {},
   "outputs": [
    {
     "data": {
      "image/png": "[encoded data removed]",
      "text/plain": [
       "<Figure size 640x480 with 1 Axes>"
      ]
     },
     "metadata": {},
     "output_type": "display_data"
    }
   ],
   "source": [
    "image = itermap(Julia ,500,17)\n",
    "# cv.imwrite('C:/Users/user/Desktop/Programming/thunderstormxx/' '.jpeg', image)"
   ]
  },
  {
   "cell_type": "code",
   "execution_count": 114,
   "metadata": {},
   "outputs": [
    {
     "ename": "KeyboardInterrupt",
     "evalue": "",
     "output_type": "error",
     "traceback": [
      "\u001b[1;31m---------------------------------------------------------------------------\u001b[0m",
      "\u001b[1;31mKeyboardInterrupt\u001b[0m                         Traceback (most recent call last)",
      "\u001b[1;32mc:\\Users\\user\\Desktop\\Programming\\fractals.ipynb Ячейка 5\u001b[0m in \u001b[0;36m<cell line: 9>\u001b[1;34m()\u001b[0m\n\u001b[0;32m     <a href='vscode-notebook-cell:/c%3A/Users/user/Desktop/Programming/fractals.ipynb#W4sdW50aXRsZWQ%3D?line=11'>12</a>\u001b[0m zy \u001b[39m=\u001b[39m \u001b[39m1.0\u001b[39m\u001b[39m*\u001b[39m(y \u001b[39m-\u001b[39m h\u001b[39m/\u001b[39m\u001b[39m2\u001b[39m)\u001b[39m/\u001b[39m(\u001b[39m0.5\u001b[39m\u001b[39m*\u001b[39mh) \u001b[39m+\u001b[39m moveY\n\u001b[0;32m     <a href='vscode-notebook-cell:/c%3A/Users/user/Desktop/Programming/fractals.ipynb#W4sdW50aXRsZWQ%3D?line=12'>13</a>\u001b[0m i \u001b[39m=\u001b[39m maxIter\n\u001b[1;32m---> <a href='vscode-notebook-cell:/c%3A/Users/user/Desktop/Programming/fractals.ipynb#W4sdW50aXRsZWQ%3D?line=13'>14</a>\u001b[0m \u001b[39mwhile\u001b[39;00m zx\u001b[39m*\u001b[39mzx \u001b[39m+\u001b[39m zy\u001b[39m*\u001b[39mzy \u001b[39m<\u001b[39m \u001b[39m4\u001b[39m \u001b[39mand\u001b[39;00m i \u001b[39m>\u001b[39m \u001b[39m1\u001b[39m:\n\u001b[0;32m     <a href='vscode-notebook-cell:/c%3A/Users/user/Desktop/Programming/fractals.ipynb#W4sdW50aXRsZWQ%3D?line=14'>15</a>\u001b[0m     tmp \u001b[39m=\u001b[39m zx\u001b[39m*\u001b[39mzx \u001b[39m-\u001b[39m zy\u001b[39m*\u001b[39mzy \u001b[39m+\u001b[39m cX\n\u001b[0;32m     <a href='vscode-notebook-cell:/c%3A/Users/user/Desktop/Programming/fractals.ipynb#W4sdW50aXRsZWQ%3D?line=15'>16</a>\u001b[0m     zy,zx \u001b[39m=\u001b[39m \u001b[39m2.0\u001b[39m\u001b[39m*\u001b[39mzx\u001b[39m*\u001b[39mzy \u001b[39m+\u001b[39m cY, tmp\n",
      "\u001b[1;31mKeyboardInterrupt\u001b[0m: "
     ]
    }
   ],
   "source": [
    "w =1920 \n",
    "h = 1080\n",
    "image = np.empty([w,h, 3], dtype=np.uint8) \n",
    "image.fill(255)\n",
    "cX, cY = -0.7, 0.27015\n",
    "moveX, moveY = 0.0, 0.0\n",
    "maxIter = 255\n",
    "\n",
    "for x in range(w):\n",
    "    for y in range(h):\n",
    "        zx = 1.5*(x - w/2)/(0.5*w) + moveX\n",
    "        zy = 1.0*(y - h/2)/(0.5*h) + moveY\n",
    "        i = maxIter\n",
    "        while zx*zx + zy*zy < 4 and i > 1:\n",
    "            tmp = zx*zx - zy*zy + cX\n",
    "            zy,zx = 2.0*zx*zy + cY, tmp\n",
    "            i -= 1\n",
    "        image[x,y] = (i << 21) + (i << 10) + i*8\n",
    "plt.imshow(image)"
   ]
  },
  {
   "cell_type": "code",
   "execution_count": null,
   "metadata": {},
   "outputs": [],
   "source": []
  }
 ],
 "metadata": {
  "kernelspec": {
   "display_name": "Python 3.8.0 64-bit",
   "language": "python",
   "name": "python3"
  },
  "language_info": {
   "codemirror_mode": {
    "name": "ipython",
    "version": 3
   },
   "file_extension": ".py",
   "mimetype": "text/x-python",
   "name": "python",
   "nbconvert_exporter": "python",
   "pygments_lexer": "ipython3",
   "version": "3.8.0"
  },
  "orig_nbformat": 4,
  "vscode": {
   "interpreter": {
    "hash": "6a926afa313b26ae1264fdcf81c726a97e69f6ba2ba780f6aa901948710f8d6e"
   }
  }
 },
 "nbformat": 4,
 "nbformat_minor": 2
}
